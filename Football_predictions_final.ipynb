{
 "cells": [
  {
   "cell_type": "markdown",
   "id": "c508ef65",
   "metadata": {},
   "source": [
    "## Premier League match results predictions"
   ]
  },
  {
   "cell_type": "markdown",
   "id": "e3b47fb5",
   "metadata": {},
   "source": [
    "The aim of this notebookis to predict Premier League match winers wit ML algorithms.\n",
    "Match statisticts for Premier League 2018 - 2022 seasons were downloaded from https://fbref.com/ website.\n",
    "Download process is documented in Football_web_scraping notebook."
   ]
  },
  {
   "cell_type": "code",
   "execution_count": 35,
   "id": "5a1be001",
   "metadata": {},
   "outputs": [],
   "source": [
    "import pandas as pd\n",
    "import seaborn as sns\n",
    "\n",
    "from sklearn.preprocessing import MinMaxScaler\n",
    "\n",
    "from sklearn.model_selection import TimeSeriesSplit\n",
    "from sklearn.feature_selection import SequentialFeatureSelector\n",
    "from sklearn.linear_model import RidgeClassifier\n",
    "from sklearn.ensemble import RandomForestClassifier\n",
    "\n",
    "from sklearn.metrics import accuracy_score, recall_score, f1_score\n",
    "from sklearn.metrics import ConfusionMatrixDisplay"
   ]
  },
  {
   "cell_type": "code",
   "execution_count": 2,
   "id": "ff067da6",
   "metadata": {
    "code_folding": [
     0
    ]
   },
   "outputs": [],
   "source": [
    "def backtest(data, model, predictors, start=2, step=1):\n",
    "#fit model for each season based on statistics from previous seasons\n",
    "#return df with all predictions\n",
    "    \n",
    "    all_predictions = []\n",
    "    \n",
    "    seasons = sorted(data['season'].unique())\n",
    "    \n",
    "    season_lenght = len(seasons)\n",
    "    for i in range(start, season_lenght, step):\n",
    "        season = seasons[i]\n",
    "        \n",
    "        train = data[data['season'] < season]\n",
    "        test = data[data['season'] == season]\n",
    "        \n",
    "        model.fit(train[predictors], train['target'])\n",
    "        \n",
    "        preds = model.predict(test[predictors])\n",
    "        preds = pd.Series(preds, index=test.index)\n",
    "        \n",
    "        combined = pd.concat([test['target'], preds], axis=1)\n",
    "        combined.columns = ['actual_result', 'prediction']\n",
    "        \n",
    "        all_predictions.append(combined)\n",
    "    return pd.concat(all_predictions)"
   ]
  },
  {
   "cell_type": "code",
   "execution_count": 3,
   "id": "1b8c136f",
   "metadata": {
    "code_folding": [
     0
    ]
   },
   "outputs": [],
   "source": [
    "def add_target(team):\n",
    "    team['target'] = team['won'].shift(-1)\n",
    "    \n",
    "    return team"
   ]
  },
  {
   "cell_type": "code",
   "execution_count": 4,
   "id": "5706a07b",
   "metadata": {
    "code_folding": [
     1
    ]
   },
   "outputs": [],
   "source": [
    "ROLLING = 10\n",
    "def find_team_avg(team):\n",
    "    rolling = team.rolling(ROLLING).mean()\n",
    "    return rolling"
   ]
  },
  {
   "cell_type": "code",
   "execution_count": 5,
   "id": "cce6a49d",
   "metadata": {
    "code_folding": [
     0,
     4
    ]
   },
   "outputs": [],
   "source": [
    "def shift_col(team, col_name):\n",
    "    next_col = team[col_name].shift(-1)\n",
    "    return next_col\n",
    "\n",
    "def add_col(df, col_name):\n",
    "    return df.groupby('team', group_keys=False).apply(lambda x: shift_col(x, col_name))"
   ]
  },
  {
   "cell_type": "code",
   "execution_count": 6,
   "id": "18d79cd2",
   "metadata": {},
   "outputs": [],
   "source": [
    "df = pd.read_csv('football_games.csv', index_col=0)\n",
    "#sort df by date\n",
    "df = df.sort_values('date').reset_index(drop=True)\n",
    "# create won column. value 1 if match was won. value 0 if match was lost or drawn\n",
    "df['won'] = df['performance_gls'] > df['performance_gls_opp']\n",
    "df['won'] = df['won'].astype(int)"
   ]
  },
  {
   "cell_type": "code",
   "execution_count": 7,
   "id": "02b80fe1",
   "metadata": {
    "code_folding": []
   },
   "outputs": [],
   "source": [
    "#add target column with result of next match\n",
    "df = df.groupby(\"team\", group_keys=False).apply(add_target)"
   ]
  },
  {
   "cell_type": "code",
   "execution_count": 8,
   "id": "dc79d9d7",
   "metadata": {},
   "outputs": [
    {
     "data": {
      "text/html": [
       "<div>\n",
       "<style scoped>\n",
       "    .dataframe tbody tr th:only-of-type {\n",
       "        vertical-align: middle;\n",
       "    }\n",
       "\n",
       "    .dataframe tbody tr th {\n",
       "        vertical-align: top;\n",
       "    }\n",
       "\n",
       "    .dataframe thead th {\n",
       "        text-align: right;\n",
       "    }\n",
       "</style>\n",
       "<table border=\"1\" class=\"dataframe\">\n",
       "  <thead>\n",
       "    <tr style=\"text-align: right;\">\n",
       "      <th></th>\n",
       "      <th>performance_gls</th>\n",
       "      <th>performance_ast</th>\n",
       "      <th>performance_pk</th>\n",
       "      <th>performance_pkatt</th>\n",
       "      <th>performance_sh</th>\n",
       "      <th>performance_sot</th>\n",
       "      <th>performance_crdy</th>\n",
       "      <th>performance_crdr</th>\n",
       "      <th>expected_xg</th>\n",
       "      <th>expected_npxg</th>\n",
       "      <th>...</th>\n",
       "      <th>aerial_duels_won_opp</th>\n",
       "      <th>aerial_duels_lost_opp</th>\n",
       "      <th>aerial_duels_won%_opp</th>\n",
       "      <th>team_opp</th>\n",
       "      <th>home_opp</th>\n",
       "      <th>season</th>\n",
       "      <th>date</th>\n",
       "      <th>result</th>\n",
       "      <th>won</th>\n",
       "      <th>target</th>\n",
       "    </tr>\n",
       "  </thead>\n",
       "  <tbody>\n",
       "    <tr>\n",
       "      <th>0</th>\n",
       "      <td>4</td>\n",
       "      <td>4</td>\n",
       "      <td>0</td>\n",
       "      <td>0</td>\n",
       "      <td>27</td>\n",
       "      <td>10</td>\n",
       "      <td>0</td>\n",
       "      <td>0</td>\n",
       "      <td>2.6</td>\n",
       "      <td>2.6</td>\n",
       "      <td>...</td>\n",
       "      <td>17.0</td>\n",
       "      <td>18.0</td>\n",
       "      <td>48.6</td>\n",
       "      <td>Leicester City</td>\n",
       "      <td>0</td>\n",
       "      <td>2018</td>\n",
       "      <td>2017-08-11</td>\n",
       "      <td>W</td>\n",
       "      <td>1</td>\n",
       "      <td>0.0</td>\n",
       "    </tr>\n",
       "    <tr>\n",
       "      <th>1</th>\n",
       "      <td>3</td>\n",
       "      <td>3</td>\n",
       "      <td>0</td>\n",
       "      <td>0</td>\n",
       "      <td>6</td>\n",
       "      <td>3</td>\n",
       "      <td>1</td>\n",
       "      <td>0</td>\n",
       "      <td>1.5</td>\n",
       "      <td>1.5</td>\n",
       "      <td>...</td>\n",
       "      <td>18.0</td>\n",
       "      <td>17.0</td>\n",
       "      <td>51.4</td>\n",
       "      <td>Arsenal</td>\n",
       "      <td>1</td>\n",
       "      <td>2018</td>\n",
       "      <td>2017-08-11</td>\n",
       "      <td>L</td>\n",
       "      <td>0</td>\n",
       "      <td>1.0</td>\n",
       "    </tr>\n",
       "    <tr>\n",
       "      <th>2</th>\n",
       "      <td>0</td>\n",
       "      <td>0</td>\n",
       "      <td>0</td>\n",
       "      <td>0</td>\n",
       "      <td>4</td>\n",
       "      <td>0</td>\n",
       "      <td>1</td>\n",
       "      <td>0</td>\n",
       "      <td>0.3</td>\n",
       "      <td>0.3</td>\n",
       "      <td>...</td>\n",
       "      <td>17.0</td>\n",
       "      <td>17.0</td>\n",
       "      <td>50.0</td>\n",
       "      <td>Southampton</td>\n",
       "      <td>1</td>\n",
       "      <td>2018</td>\n",
       "      <td>2017-08-12</td>\n",
       "      <td>D</td>\n",
       "      <td>0</td>\n",
       "      <td>0.0</td>\n",
       "    </tr>\n",
       "    <tr>\n",
       "      <th>3</th>\n",
       "      <td>0</td>\n",
       "      <td>0</td>\n",
       "      <td>0</td>\n",
       "      <td>0</td>\n",
       "      <td>9</td>\n",
       "      <td>1</td>\n",
       "      <td>1</td>\n",
       "      <td>0</td>\n",
       "      <td>0.4</td>\n",
       "      <td>0.4</td>\n",
       "      <td>...</td>\n",
       "      <td>19.0</td>\n",
       "      <td>23.0</td>\n",
       "      <td>45.2</td>\n",
       "      <td>Everton</td>\n",
       "      <td>1</td>\n",
       "      <td>2018</td>\n",
       "      <td>2017-08-12</td>\n",
       "      <td>L</td>\n",
       "      <td>0</td>\n",
       "      <td>1.0</td>\n",
       "    </tr>\n",
       "    <tr>\n",
       "      <th>4</th>\n",
       "      <td>1</td>\n",
       "      <td>1</td>\n",
       "      <td>0</td>\n",
       "      <td>0</td>\n",
       "      <td>9</td>\n",
       "      <td>4</td>\n",
       "      <td>1</td>\n",
       "      <td>0</td>\n",
       "      <td>0.6</td>\n",
       "      <td>0.6</td>\n",
       "      <td>...</td>\n",
       "      <td>23.0</td>\n",
       "      <td>19.0</td>\n",
       "      <td>54.8</td>\n",
       "      <td>Stoke City</td>\n",
       "      <td>0</td>\n",
       "      <td>2018</td>\n",
       "      <td>2017-08-12</td>\n",
       "      <td>W</td>\n",
       "      <td>1</td>\n",
       "      <td>0.0</td>\n",
       "    </tr>\n",
       "    <tr>\n",
       "      <th>...</th>\n",
       "      <td>...</td>\n",
       "      <td>...</td>\n",
       "      <td>...</td>\n",
       "      <td>...</td>\n",
       "      <td>...</td>\n",
       "      <td>...</td>\n",
       "      <td>...</td>\n",
       "      <td>...</td>\n",
       "      <td>...</td>\n",
       "      <td>...</td>\n",
       "      <td>...</td>\n",
       "      <td>...</td>\n",
       "      <td>...</td>\n",
       "      <td>...</td>\n",
       "      <td>...</td>\n",
       "      <td>...</td>\n",
       "      <td>...</td>\n",
       "      <td>...</td>\n",
       "      <td>...</td>\n",
       "      <td>...</td>\n",
       "      <td>...</td>\n",
       "    </tr>\n",
       "    <tr>\n",
       "      <th>3035</th>\n",
       "      <td>5</td>\n",
       "      <td>4</td>\n",
       "      <td>0</td>\n",
       "      <td>0</td>\n",
       "      <td>19</td>\n",
       "      <td>12</td>\n",
       "      <td>1</td>\n",
       "      <td>0</td>\n",
       "      <td>3.4</td>\n",
       "      <td>3.4</td>\n",
       "      <td>...</td>\n",
       "      <td>6.0</td>\n",
       "      <td>10.0</td>\n",
       "      <td>37.5</td>\n",
       "      <td>Norwich City</td>\n",
       "      <td>1</td>\n",
       "      <td>2022</td>\n",
       "      <td>2022-05-22</td>\n",
       "      <td>W</td>\n",
       "      <td>1</td>\n",
       "      <td>NaN</td>\n",
       "    </tr>\n",
       "    <tr>\n",
       "      <th>3036</th>\n",
       "      <td>1</td>\n",
       "      <td>1</td>\n",
       "      <td>0</td>\n",
       "      <td>0</td>\n",
       "      <td>7</td>\n",
       "      <td>5</td>\n",
       "      <td>0</td>\n",
       "      <td>0</td>\n",
       "      <td>1.4</td>\n",
       "      <td>1.4</td>\n",
       "      <td>...</td>\n",
       "      <td>7.0</td>\n",
       "      <td>4.0</td>\n",
       "      <td>63.6</td>\n",
       "      <td>Liverpool</td>\n",
       "      <td>1</td>\n",
       "      <td>2022</td>\n",
       "      <td>2022-05-22</td>\n",
       "      <td>L</td>\n",
       "      <td>0</td>\n",
       "      <td>NaN</td>\n",
       "    </tr>\n",
       "    <tr>\n",
       "      <th>3037</th>\n",
       "      <td>0</td>\n",
       "      <td>0</td>\n",
       "      <td>0</td>\n",
       "      <td>0</td>\n",
       "      <td>10</td>\n",
       "      <td>4</td>\n",
       "      <td>4</td>\n",
       "      <td>0</td>\n",
       "      <td>0.9</td>\n",
       "      <td>0.9</td>\n",
       "      <td>...</td>\n",
       "      <td>8.0</td>\n",
       "      <td>10.0</td>\n",
       "      <td>44.4</td>\n",
       "      <td>Crystal Palace</td>\n",
       "      <td>1</td>\n",
       "      <td>2022</td>\n",
       "      <td>2022-05-22</td>\n",
       "      <td>L</td>\n",
       "      <td>0</td>\n",
       "      <td>NaN</td>\n",
       "    </tr>\n",
       "    <tr>\n",
       "      <th>3038</th>\n",
       "      <td>3</td>\n",
       "      <td>3</td>\n",
       "      <td>0</td>\n",
       "      <td>0</td>\n",
       "      <td>18</td>\n",
       "      <td>7</td>\n",
       "      <td>1</td>\n",
       "      <td>0</td>\n",
       "      <td>1.9</td>\n",
       "      <td>1.9</td>\n",
       "      <td>...</td>\n",
       "      <td>13.0</td>\n",
       "      <td>20.0</td>\n",
       "      <td>39.4</td>\n",
       "      <td>West Ham United</td>\n",
       "      <td>0</td>\n",
       "      <td>2022</td>\n",
       "      <td>2022-05-22</td>\n",
       "      <td>W</td>\n",
       "      <td>1</td>\n",
       "      <td>NaN</td>\n",
       "    </tr>\n",
       "    <tr>\n",
       "      <th>3039</th>\n",
       "      <td>1</td>\n",
       "      <td>1</td>\n",
       "      <td>0</td>\n",
       "      <td>0</td>\n",
       "      <td>6</td>\n",
       "      <td>2</td>\n",
       "      <td>1</td>\n",
       "      <td>0</td>\n",
       "      <td>1.1</td>\n",
       "      <td>1.1</td>\n",
       "      <td>...</td>\n",
       "      <td>8.0</td>\n",
       "      <td>15.0</td>\n",
       "      <td>34.8</td>\n",
       "      <td>Arsenal</td>\n",
       "      <td>1</td>\n",
       "      <td>2022</td>\n",
       "      <td>2022-05-22</td>\n",
       "      <td>L</td>\n",
       "      <td>0</td>\n",
       "      <td>NaN</td>\n",
       "    </tr>\n",
       "  </tbody>\n",
       "</table>\n",
       "<p>3040 rows × 196 columns</p>\n",
       "</div>"
      ],
      "text/plain": [
       "      performance_gls  performance_ast  performance_pk  performance_pkatt  \\\n",
       "0                   4                4               0                  0   \n",
       "1                   3                3               0                  0   \n",
       "2                   0                0               0                  0   \n",
       "3                   0                0               0                  0   \n",
       "4                   1                1               0                  0   \n",
       "...               ...              ...             ...                ...   \n",
       "3035                5                4               0                  0   \n",
       "3036                1                1               0                  0   \n",
       "3037                0                0               0                  0   \n",
       "3038                3                3               0                  0   \n",
       "3039                1                1               0                  0   \n",
       "\n",
       "      performance_sh  performance_sot  performance_crdy  performance_crdr  \\\n",
       "0                 27               10                 0                 0   \n",
       "1                  6                3                 1                 0   \n",
       "2                  4                0                 1                 0   \n",
       "3                  9                1                 1                 0   \n",
       "4                  9                4                 1                 0   \n",
       "...              ...              ...               ...               ...   \n",
       "3035              19               12                 1                 0   \n",
       "3036               7                5                 0                 0   \n",
       "3037              10                4                 4                 0   \n",
       "3038              18                7                 1                 0   \n",
       "3039               6                2                 1                 0   \n",
       "\n",
       "      expected_xg  expected_npxg  ...  aerial_duels_won_opp  \\\n",
       "0             2.6            2.6  ...                  17.0   \n",
       "1             1.5            1.5  ...                  18.0   \n",
       "2             0.3            0.3  ...                  17.0   \n",
       "3             0.4            0.4  ...                  19.0   \n",
       "4             0.6            0.6  ...                  23.0   \n",
       "...           ...            ...  ...                   ...   \n",
       "3035          3.4            3.4  ...                   6.0   \n",
       "3036          1.4            1.4  ...                   7.0   \n",
       "3037          0.9            0.9  ...                   8.0   \n",
       "3038          1.9            1.9  ...                  13.0   \n",
       "3039          1.1            1.1  ...                   8.0   \n",
       "\n",
       "      aerial_duels_lost_opp  aerial_duels_won%_opp         team_opp  home_opp  \\\n",
       "0                      18.0                   48.6   Leicester City         0   \n",
       "1                      17.0                   51.4          Arsenal         1   \n",
       "2                      17.0                   50.0      Southampton         1   \n",
       "3                      23.0                   45.2          Everton         1   \n",
       "4                      19.0                   54.8       Stoke City         0   \n",
       "...                     ...                    ...              ...       ...   \n",
       "3035                   10.0                   37.5     Norwich City         1   \n",
       "3036                    4.0                   63.6        Liverpool         1   \n",
       "3037                   10.0                   44.4   Crystal Palace         1   \n",
       "3038                   20.0                   39.4  West Ham United         0   \n",
       "3039                   15.0                   34.8          Arsenal         1   \n",
       "\n",
       "      season        date  result  won  target  \n",
       "0       2018  2017-08-11       W    1     0.0  \n",
       "1       2018  2017-08-11       L    0     1.0  \n",
       "2       2018  2017-08-12       D    0     0.0  \n",
       "3       2018  2017-08-12       L    0     1.0  \n",
       "4       2018  2017-08-12       W    1     0.0  \n",
       "...      ...         ...     ...  ...     ...  \n",
       "3035    2022  2022-05-22       W    1     NaN  \n",
       "3036    2022  2022-05-22       L    0     NaN  \n",
       "3037    2022  2022-05-22       L    0     NaN  \n",
       "3038    2022  2022-05-22       W    1     NaN  \n",
       "3039    2022  2022-05-22       L    0     NaN  \n",
       "\n",
       "[3040 rows x 196 columns]"
      ]
     },
     "execution_count": 8,
     "metadata": {},
     "output_type": "execute_result"
    }
   ],
   "source": [
    "df"
   ]
  },
  {
   "cell_type": "code",
   "execution_count": 9,
   "id": "993409d0",
   "metadata": {},
   "outputs": [
    {
     "name": "stderr",
     "output_type": "stream",
     "text": [
      "C:\\Users\\aa\\AppData\\Local\\Temp\\ipykernel_800\\3470679465.py:1: SettingWithCopyWarning: \n",
      "A value is trying to be set on a copy of a slice from a DataFrame\n",
      "\n",
      "See the caveats in the documentation: https://pandas.pydata.org/pandas-docs/stable/user_guide/indexing.html#returning-a-view-versus-a-copy\n",
      "  df['target'][pd.isnull(df['target'])] = 9\n"
     ]
    }
   ],
   "source": [
    "df['target'][pd.isnull(df['target'])] = 9\n",
    "df = df.copy()\n",
    "df['target'] = df['target'].astype(int)"
   ]
  },
  {
   "cell_type": "code",
   "execution_count": 10,
   "id": "05fdcb7e",
   "metadata": {},
   "outputs": [
    {
     "data": {
      "text/plain": [
       "Series([], dtype: int64)"
      ]
     },
     "execution_count": 10,
     "metadata": {},
     "output_type": "execute_result"
    }
   ],
   "source": [
    "#check for missing values. No missing values found\n",
    "nulls = pd.isnull(df).sum()\n",
    "nulls[nulls > 0]"
   ]
  },
  {
   "cell_type": "code",
   "execution_count": 11,
   "id": "5e9ad1ea",
   "metadata": {},
   "outputs": [],
   "source": [
    "removed_col = ['team','team_opp','season', 'date', 'result', 'target' ]\n",
    "selected_col = df.columns[~df.columns.isin(removed_col)]"
   ]
  },
  {
   "cell_type": "code",
   "execution_count": 12,
   "id": "09299a10",
   "metadata": {},
   "outputs": [],
   "source": [
    "scaler = MinMaxScaler()"
   ]
  },
  {
   "cell_type": "code",
   "execution_count": 13,
   "id": "97473c53",
   "metadata": {},
   "outputs": [],
   "source": [
    "df[selected_col] = scaler.fit_transform(df[selected_col])"
   ]
  },
  {
   "cell_type": "code",
   "execution_count": 14,
   "id": "cd179b0f",
   "metadata": {},
   "outputs": [
    {
     "name": "stderr",
     "output_type": "stream",
     "text": [
      "C:\\Users\\aa\\AppData\\Local\\Temp\\ipykernel_800\\2718828994.py:3: FutureWarning: Dropping of nuisance columns in rolling operations is deprecated; in a future version this will raise TypeError. Select only valid columns before calling the operation. Dropped columns were Index(['result', 'team'], dtype='object')\n",
      "  rolling = team.rolling(ROLLING).mean()\n"
     ]
    }
   ],
   "source": [
    "#add rolling averages for each team\n",
    "df_rolling = df[list(selected_col) + ['team','season', 'result']]\n",
    "df_rolling = df_rolling.groupby(['team', 'season'], group_keys=False).apply(find_team_avg)\n",
    "\n",
    "rolling_cols = [f'{col}_{ROLLING}' for col in df_rolling.columns]\n",
    "df_rolling.columns = rolling_cols\n",
    "\n",
    "df = pd.concat([df, df_rolling], axis=1).dropna()"
   ]
  },
  {
   "cell_type": "code",
   "execution_count": 15,
   "id": "f34df40f",
   "metadata": {},
   "outputs": [],
   "source": [
    "df['home_next'] = add_col(df, 'home')\n",
    "df['team_opp_next'] = add_col(df, 'team_opp')\n",
    "df['date_next'] = add_col(df, 'date')\n",
    "df = df.copy()"
   ]
  },
  {
   "cell_type": "code",
   "execution_count": 16,
   "id": "338fafa7",
   "metadata": {},
   "outputs": [],
   "source": [
    "#add columns with statistics for next opponent\n",
    "full = df.merge(df[rolling_cols + ['team_opp_next', 'date_next', 'team']], \n",
    "                left_on=['team', 'date_next'], \n",
    "                right_on=['team_opp_next', 'date_next']\n",
    "               )"
   ]
  },
  {
   "cell_type": "code",
   "execution_count": 17,
   "id": "a0d9812f",
   "metadata": {},
   "outputs": [
    {
     "data": {
      "text/plain": [
       "0.0    1411\n",
       "1.0     873\n",
       "Name: won, dtype: int64"
      ]
     },
     "execution_count": 17,
     "metadata": {},
     "output_type": "execute_result"
    }
   ],
   "source": [
    "#data are imbalanced due to merging loss and draww results into one category\n",
    "full['won'].value_counts()"
   ]
  },
  {
   "cell_type": "code",
   "execution_count": 31,
   "id": "21529f57",
   "metadata": {},
   "outputs": [
    {
     "name": "stdout",
     "output_type": "stream",
     "text": [
      "Win % = 38.2\n",
      "Loose or draw % = 61.8\n"
     ]
    }
   ],
   "source": [
    "win = round(((full[full['won'] == 1].shape[0] / full['won'].shape[0]) * 100), 1)\n",
    "\n",
    "print(f'Win % = {round(win, 1)}')\n",
    "print(f'Loose or draw % = {100 - win}')"
   ]
  },
  {
   "cell_type": "code",
   "execution_count": 19,
   "id": "9f3ffa3d",
   "metadata": {},
   "outputs": [],
   "source": [
    "removed_col = list(full.columns[full.dtypes == \"object\"]) + removed_col\n",
    "selected_col = full.columns[~full.columns.isin(removed_col)]"
   ]
  },
  {
   "cell_type": "code",
   "execution_count": 20,
   "id": "c70b80cb",
   "metadata": {},
   "outputs": [
    {
     "data": {
      "text/plain": [
       "['team_x',\n",
       " 'team_opp',\n",
       " 'date',\n",
       " 'result',\n",
       " 'team_opp_next_x',\n",
       " 'date_next',\n",
       " 'team_opp_next_y',\n",
       " 'team_y',\n",
       " 'team',\n",
       " 'team_opp',\n",
       " 'season',\n",
       " 'date',\n",
       " 'result',\n",
       " 'target']"
      ]
     },
     "execution_count": 20,
     "metadata": {},
     "output_type": "execute_result"
    }
   ],
   "source": [
    "removed_col"
   ]
  },
  {
   "cell_type": "markdown",
   "id": "f78d6940",
   "metadata": {},
   "source": [
    "### Feature selection and model fitting"
   ]
  },
  {
   "cell_type": "code",
   "execution_count": 21,
   "id": "9272c7d2",
   "metadata": {},
   "outputs": [],
   "source": [
    "rr = RidgeClassifier(alpha=1)\n",
    "split = TimeSeriesSplit(n_splits = 3)\n",
    "sfs_rr = SequentialFeatureSelector(rr, n_features_to_select=30, direction='backward', cv=split)"
   ]
  },
  {
   "cell_type": "code",
   "execution_count": 22,
   "id": "8b2fc08c",
   "metadata": {},
   "outputs": [],
   "source": [
    "sfs_rr.fit(full[selected_col], full['target'])\n",
    "\n",
    "predictors_rr = list(selected_col[sfs_rr.get_support()])"
   ]
  },
  {
   "cell_type": "code",
   "execution_count": 23,
   "id": "ec62b8f0",
   "metadata": {},
   "outputs": [
    {
     "data": {
      "text/plain": [
       "['expected_npxg',\n",
       " 'total_cmp%',\n",
       " 'blocks_pass',\n",
       " 'clr',\n",
       " 'sca_gca_opp',\n",
       " 'touches_att_pen_opp',\n",
       " 'dribbles_succ%_opp',\n",
       " 'performance_fls_opp',\n",
       " 'performance_fld_opp',\n",
       " 'home_opp',\n",
       " 'short_cmp%_10_x',\n",
       " 'xa_10_x',\n",
       " 'touches_mid_3rd_10_x',\n",
       " 'dribbles_succ%_10_x',\n",
       " 'dribbles_dis_10_x',\n",
       " 'performance_2crdy_10_x',\n",
       " 'performance_crdy_opp_10_x',\n",
       " 'touches_def_3rd_opp_10_x',\n",
       " 'home_next',\n",
       " 'performance_gls_10_y',\n",
       " 'performance_crdy_opp_10_y',\n",
       " 'ast_opp_10_y',\n",
       " 'pass_types_sw_opp_10_y',\n",
       " 'tackles_att_3rd_opp_10_y',\n",
       " 'vs_dribbles_past_opp_10_y',\n",
       " 'touches_def_pen_opp_10_y',\n",
       " 'performance_2crdy_opp_10_y',\n",
       " 'performance_fls_opp_10_y',\n",
       " 'aerial_duels_won_opp_10_y',\n",
       " 'home_opp_10_y']"
      ]
     },
     "execution_count": 23,
     "metadata": {},
     "output_type": "execute_result"
    }
   ],
   "source": [
    "predictors_rr"
   ]
  },
  {
   "cell_type": "code",
   "execution_count": 24,
   "id": "b486acac",
   "metadata": {},
   "outputs": [],
   "source": [
    "predictions_rr = backtest(full, rr, predictors_rr)"
   ]
  },
  {
   "cell_type": "code",
   "execution_count": 25,
   "id": "c809811a",
   "metadata": {},
   "outputs": [
    {
     "data": {
      "text/plain": [
       "0.6963028169014085"
      ]
     },
     "execution_count": 25,
     "metadata": {},
     "output_type": "execute_result"
    }
   ],
   "source": [
    "predictions_rr = predictions_rr[predictions_rr['actual_result'] != 9]\n",
    "accuracy_score(predictions_rr['actual_result'], predictions_rr['prediction'])"
   ]
  },
  {
   "cell_type": "code",
   "execution_count": 26,
   "id": "f1678099",
   "metadata": {},
   "outputs": [
    {
     "data": {
      "text/plain": [
       "0.5170842824601367"
      ]
     },
     "execution_count": 26,
     "metadata": {},
     "output_type": "execute_result"
    }
   ],
   "source": [
    "recall_score(predictions_rr['actual_result'], predictions_rr['prediction'])"
   ]
  },
  {
   "cell_type": "code",
   "execution_count": 27,
   "id": "ce28ea65",
   "metadata": {},
   "outputs": [
    {
     "data": {
      "text/plain": [
       "<sklearn.metrics._plot.confusion_matrix.ConfusionMatrixDisplay at 0x1fb853c3400>"
      ]
     },
     "execution_count": 27,
     "metadata": {},
     "output_type": "execute_result"
    },
    {
     "data": {
      "image/png": "[encoded data removed]",
      "text/plain": [
       "<Figure size 432x288 with 2 Axes>"
      ]
     },
     "metadata": {
      "needs_background": "light"
     },
     "output_type": "display_data"
    }
   ],
   "source": [
    "ConfusionMatrixDisplay.from_predictions(predictions_rr['actual_result'], predictions_rr['prediction'])"
   ]
  },
  {
   "cell_type": "code",
   "execution_count": 34,
   "id": "e97eaaf6",
   "metadata": {},
   "outputs": [
    {
     "data": {
      "text/plain": [
       "0.5682102628285356"
      ]
     },
     "execution_count": 34,
     "metadata": {},
     "output_type": "execute_result"
    }
   ],
   "source": [
    "f1_score(predictions_rr['actual_result'], predictions_rr['prediction'])"
   ]
  },
  {
   "cell_type": "code",
   "execution_count": 36,
   "id": "f1fd2818",
   "metadata": {},
   "outputs": [
    {
     "data": {
      "text/plain": [
       "1    73\n",
       "0    42\n",
       "Name: actual_result_x, dtype: int64"
      ]
     },
     "execution_count": 36,
     "metadata": {},
     "output_type": "execute_result"
    }
   ],
   "source": [
    "#check accuracy of prediction in case one team was predited to win and other was predicted to loose\n",
    "combined = predictions_rr.merge(full[['date', 'team_x', 'team_y', 'result']], left_index=True, right_index=True)\n",
    "merged = combined.merge(combined, left_on=['date', 'team_x'], right_on=['date', 'team_y'])\n",
    "merged[(merged['prediction_x'] == 1) & (merged['prediction_y'] == 0)]['actual_result_x'].value_counts()"
   ]
  },
  {
   "cell_type": "code",
   "execution_count": 37,
   "id": "0f9739e7",
   "metadata": {},
   "outputs": [
    {
     "data": {
      "text/plain": [
       "0.6347826086956522"
      ]
     },
     "execution_count": 37,
     "metadata": {},
     "output_type": "execute_result"
    }
   ],
   "source": [
    "73/(73+42)"
   ]
  },
  {
   "cell_type": "markdown",
   "id": "2632de04",
   "metadata": {},
   "source": [
    "### Next steps"
   ]
  },
  {
   "cell_type": "markdown",
   "id": "7ed3bc77",
   "metadata": {},
   "source": [
    "1. Gather more data.\n",
    "2. Try more powerful algorithms e.g XGB Boost\n",
    "3. Try to transform data to higher dimensions space to check if ther are linearly separable (kernel PCA"
   ]
  },
  {
   "cell_type": "code",
   "execution_count": null,
   "id": "19ed0396",
   "metadata": {},
   "outputs": [],
   "source": []
  }
 ],
 "metadata": {
  "kernelspec": {
   "display_name": "Python 3 (ipykernel)",
   "language": "python",
   "name": "python3"
  },
  "language_info": {
   "codemirror_mode": {
    "name": "ipython",
    "version": 3
   },
   "file_extension": ".py",
   "mimetype": "text/x-python",
   "name": "python",
   "nbconvert_exporter": "python",
   "pygments_lexer": "ipython3",
   "version": "3.9.7"
  },
  "toc": {
   "base_numbering": 1,
   "nav_menu": {},
   "number_sections": true,
   "sideBar": true,
   "skip_h1_title": false,
   "title_cell": "Table of Contents",
   "title_sidebar": "Contents",
   "toc_cell": false,
   "toc_position": {},
   "toc_section_display": true,
   "toc_window_display": false
  },
  "varInspector": {
   "cols": {
    "lenName": 16,
    "lenType": 16,
    "lenVar": 40
   },
   "kernels_config": {
    "python": {
     "delete_cmd_postfix": "",
     "delete_cmd_prefix": "del ",
     "library": "var_list.py",
     "varRefreshCmd": "print(var_dic_list())"
    },
    "r": {
     "delete_cmd_postfix": ") ",
     "delete_cmd_prefix": "rm(",
     "library": "var_list.r",
     "varRefreshCmd": "cat(var_dic_list()) "
    }
   },
   "types_to_exclude": [
    "module",
    "function",
    "builtin_function_or_method",
    "instance",
    "_Feature"
   ],
   "window_display": false
  }
 },
 "nbformat": 4,
 "nbformat_minor": 5
}
